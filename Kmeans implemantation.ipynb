{
 "cells": [
  {
   "cell_type": "code",
   "execution_count": 100,
   "id": "0cd34d4c",
   "metadata": {},
   "outputs": [],
   "source": [
    "from model import KMeans\n",
    "from utils import get_image, show_image, save_image, error"
   ]
  },
  {
   "cell_type": "code",
   "execution_count": 101,
   "id": "32ecfb12",
   "metadata": {},
   "outputs": [],
   "source": [
    "def main():\n",
    "    # get image\n",
    "    image = get_image('my_image.png')\n",
    "    img_shape = image.shape\n",
    "\n",
    "    # reshape image\n",
    "    image_flat = image.reshape(-1, image.shape[-1])\n",
    "    k_values=[1,2,3,5,7,10,20,50]\n",
    "    mse_values=[]\n",
    "\n",
    "    # create model\n",
    "    num_clusters = 5 \n",
    "    # CHANGE THIS\n",
    "    for num_clusters in k_values:\n",
    "        kmeans = KMeans(num_clusters)\n",
    "\n",
    "        # fit model\n",
    "        kmeans.fit(image_flat)\n",
    "\n",
    "        # replace each pixel with its closest cluster center\n",
    "        image_flat_clustered = kmeans.replace_with_cluster_centers(image)\n",
    "\n",
    "        # reshape image\n",
    "        image_flat_clustered = image_flat_clustered.reshape(img_shape)\n",
    "\n",
    "        # Print the error\n",
    "        mse=error(image.reshape(-1,3),image_flat_clustered)\n",
    "        mse_values.append(mse)\n",
    "        print('MSE:',mse)\n",
    "\n",
    "        # show/save image\n",
    "        # show_image(image)\n",
    "        save_image(image_flat_clustered, f'image_clustered_{num_clusters}.png')\n",
    "    plt.plot(k_values, mse_values)\n",
    "    plt.xlabel('Number of clusters (k)')\n",
    "    plt.ylabel('MSE')\n",
    "    plt.show()\n",
    "    \n",
    "\n",
    "\n",
    "\n"
   ]
  },
  {
   "cell_type": "code",
   "execution_count": 102,
   "id": "c4a23c3c",
   "metadata": {},
   "outputs": [],
   "source": [
    "from matplotlib import pyplot as plt\n",
    "import numpy as np\n",
    "\n",
    "def get_image(image_path):\n",
    "    image = plt.imread(image_path)\n",
    "    return image.reshape(-1,3)/255.0\n",
    "\n",
    "\n",
    "def show_image(image):\n",
    "    plt.imshow(image)\n",
    "    plt.show()\n",
    "\n",
    "def save_image(image, image_path,format='png'):\n",
    "    plt.imsave(image_path, image,format=format)\n",
    "\n",
    "\n",
    "def error(original_image: np.ndarray, clustered_image: np.ndarray) -> float:\n",
    "    # Returns the Mean Squared Error between the original image and the clustered image\n",
    "    return ((original_image-clustered_image)**2).mean()"
   ]
  },
  {
   "cell_type": "code",
   "execution_count": 103,
   "id": "1750ce14",
   "metadata": {},
   "outputs": [],
   "source": [
    "import numpy as np\n",
    "\n",
    "class KMeans:\n",
    "    def __init__(self, k: int, epsilon: float = 1e-6) -> None:\n",
    "        self.num_clusters = k\n",
    "        self.cluster_centers = None\n",
    "        self.epsilon = epsilon\n",
    "    \n",
    "    def fit(self, X: np.ndarray, max_iter: int = 100) -> None:\n",
    "        # Initialize cluster centers (need to be careful with the initialization,\n",
    "        # otherwise you might see that none of the pixels are assigned to some\n",
    "        # of the clusters, which will result in a division by zero error)\n",
    "        self.cluster_centers=np.array(X[np.random.choice(X.shape[0],self.num_clusters,replace=False),:])\n",
    "        \n",
    "\n",
    "        for _ in range(max_iter):\n",
    "            # Assign each sample to the closest prototype\n",
    "            distances=np.sqrt(((X[:,np.newaxis,:]-self.cluster_centers)**2).sum(axis=2))\n",
    "            closest_cluster=np.argmin(distances,axis=1)\n",
    "            \n",
    "            \n",
    "            # Update prototypes\n",
    "            new_centers=np.array([np.nanmean(X[closest_cluster==j],axis=0) if np.any(closest_cluster == j) else self.cluster_centers[j] for j in range(self.num_clusters)])\n",
    "            \n",
    "            if np.allclose(new_centers,self.cluster_centers,rtol=0,atol=self.epsilon):\n",
    "                break\n",
    "            self.cluster_centers=new_centers\n",
    "    \n",
    "    def predict(self, X: np.ndarray) -> np.ndarray:\n",
    "        distances = np.sqrt(((X[:, np.newaxis, :] - self.cluster_centers) ** 2).sum(axis=2))\n",
    "        return np.argmin(distances,axis=1)\n",
    "    \n",
    "    def fit_predict(self, X: np.ndarray, max_iter: int = 100) -> np.ndarray:\n",
    "        self.fit(X, max_iter)\n",
    "        return self.predict(X)\n",
    "    \n",
    "    def replace_with_cluster_centers(self, X: np.ndarray) -> np.ndarray:\n",
    "        distances = np.sqrt(((X[:, np.newaxis, :] - self.cluster_centers) ** 2).sum(axis=2))\n",
    "        closest_cluster=np.argmin(distances,axis=1)\n",
    "        return self.cluster_centers[closest_cluster]"
   ]
  },
  {
   "cell_type": "code",
   "execution_count": 104,
   "id": "3a83e201",
   "metadata": {},
   "outputs": [],
   "source": [
    "Image=get_image('image.jpg')"
   ]
  },
  {
   "cell_type": "code",
   "execution_count": 105,
   "id": "9236309d",
   "metadata": {},
   "outputs": [
    {
     "data": {
      "image/png": "[encoded data removed]",
      "text/plain": [
       "<Figure size 432x288 with 1 Axes>"
      ]
     },
     "metadata": {
      "needs_background": "light"
     },
     "output_type": "display_data"
    }
   ],
   "source": [
    "show_image(Image)"
   ]
  },
  {
   "cell_type": "code",
   "execution_count": 106,
   "id": "a8d4851c",
   "metadata": {},
   "outputs": [],
   "source": [
    "save_image(Image,'my_image.png')"
   ]
  },
  {
   "cell_type": "code",
   "execution_count": null,
   "id": "6a0078ab",
   "metadata": {},
   "outputs": [],
   "source": []
  },
  {
   "cell_type": "code",
   "execution_count": 107,
   "id": "7a4a5357",
   "metadata": {},
   "outputs": [
    {
     "name": "stdout",
     "output_type": "stream",
     "text": [
      "MSE: 1.726919e-06\n",
      "MSE: 1.1468138e-06\n",
      "MSE: 6.084745e-07\n",
      "MSE: 3.9481492e-07\n",
      "MSE: 2.1887844e-07\n",
      "MSE: 1.9947619e-07\n",
      "MSE: 3.23481e-08\n",
      "MSE: 8.867873e-09\n"
     ]
    },
    {
     "data": {
      "image/png": "[encoded data removed]",
      "text/plain": [
       "<Figure size 432x288 with 1 Axes>"
      ]
     },
     "metadata": {
      "needs_background": "light"
     },
     "output_type": "display_data"
    }
   ],
   "source": [
    "main()"
   ]
  },
  {
   "cell_type": "code",
   "execution_count": null,
   "id": "10457481",
   "metadata": {},
   "outputs": [],
   "source": []
  }
 ],
 "metadata": {
  "kernelspec": {
   "display_name": "Python 3 (ipykernel)",
   "language": "python",
   "name": "python3"
  },
  "language_info": {
   "codemirror_mode": {
    "name": "ipython",
    "version": 3
   },
   "file_extension": ".py",
   "mimetype": "text/x-python",
   "name": "python",
   "nbconvert_exporter": "python",
   "pygments_lexer": "ipython3",
   "version": "3.9.12"
  }
 },
 "nbformat": 4,
 "nbformat_minor": 5
}
